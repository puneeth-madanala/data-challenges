import os
import pandas as pd
import sqlite3
import xml.etree.ElementTree as ET
from typing import List, Dict
from datetime import datetime

class RO:
    def __init__(self, order_id, status, cost, technician, parts):
        self.order_id = order_id
        self.status = status
        self.cost = cost
        self.technician = technician
        self.parts = parts

    def __repr__(self):
        return f"RO(order_id={self.order_id}, status={self.status}, cost={self.cost}, technician={self.technician}, parts={self.parts})"

def read_xmlfiles_from_dir(dir: str) -> List[str]:
    contents_of_xml = []
    for filename in os.listdir(dir):
        if filename.endswith('.xml'):
            with open(os.path.join(dir, filename), 'r') as file:
                contents_of_xml.append(file.read())
    return contents_of_xml

def parse_xml(files: List[str]) -> pd.DataFrame:
    events = []
    for xml in files:
        root = ET.fromstring(xml)
        for event in root.findall('event'):
            data = {
                'order_id': event.find('order_id').text,
                'date_time': pd.to_datetime(event.find('date_time').text),
                'status': event.find('status').text,
                'cost': float(event.find('cost').text),
                'technician': event.find('repair_details/technician').text,
                'parts': [(part.get('name'), int(part.get('quantity'))) for part in event.findall('repair_details/repair_parts/part')]
            }
            events.append(data)
    return pd.DataFrame(events)

def window_by_dateandtime(data: pd.DataFrame, window: str) -> Dict[str, pd.DataFrame]:
    data.set_index('date_time', inplace=True)
    return {str(grouper): group for grouper, group in data.groupby(pd.Grouper(freq=window))}

def process_to_RO(data: Dict[str, pd.DataFrame]) -> List[RO]:
    result = []
    for window, df in data.items():
        for _, row in df.iterrows():
            ro = RO(row['order_id'], row['status'], row['cost'], row['technician'], row['parts'])
            result.append(ro)
    return result

def save_to_sqlitedb(ros: List[RO], database_path: str):
    conn = sqlite3.connect(database_path)
    cursor = conn.cursor()
    cursor.execute("CREATE TABLE IF NOT EXISTS repair_orders (order_id TEXT, status TEXT, cost REAL, technician TEXT, parts TEXT)")
    for ro in ros:
        cursor.execute("INSERT INTO repair_orders (order_id, status, cost, technician, parts) VALUES (?, ?, ?, ?, ?)",
                       (ro.order_id, ro.status, ro.cost, ro.technician, str(ro.parts)))
    conn.commit()
    conn.close()

def main():
    directory_path = 'data-engineer/data'
    database_path = 'repair_orders.db'
    contents_of_xml = read_xmlfiles_from_dir(directory_path)
    parsed_dataframe = parse_xml(contents_of_xml)
    windowed_data = window_by_dateandtime(parsed_dataframe, '1D')
    ros = process_to_RO(windowed_data)
    save_to_sqlitedb(ros, database_path)

if __name__ == "__main__":
    main()
